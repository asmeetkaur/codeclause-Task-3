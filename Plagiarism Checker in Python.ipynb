{
 "cells": [
  {
   "cell_type": "code",
   "execution_count": 1,
   "id": "ee24ce8a",
   "metadata": {},
   "outputs": [],
   "source": [
    "import re\n",
    "from collections import Counter"
   ]
  },
  {
   "cell_type": "code",
   "execution_count": 2,
   "id": "69d4fa4c",
   "metadata": {},
   "outputs": [],
   "source": [
    "def preprocess_text(text):\n",
    "    # Convert text to lowercase and remove non-alphanumeric characters\n",
    "    processed_text = re.sub(r'[^a-z0-9\\s]', '', text.lower())\n",
    "    return processed_text"
   ]
  },
  {
   "cell_type": "code",
   "execution_count": 3,
   "id": "70e59246",
   "metadata": {},
   "outputs": [],
   "source": [
    "def calculate_similarity(text1, text2):\n",
    "    # Preprocess both texts\n",
    "    processed_text1 = preprocess_text(text1)\n",
    "    processed_text2 = preprocess_text(text2)\n",
    "\n",
    "    # Tokenize the texts into words\n",
    "    words1 = processed_text1.split()\n",
    "    words2 = processed_text2.split()\n",
    "\n",
    "    # Calculate Jaccard similarity\n",
    "    intersection = len(set(words1) & set(words2))\n",
    "    union = len(set(words1) | set(words2))\n",
    "\n",
    "    jaccard_similarity = intersection / union\n",
    "    return jaccard_similarity"
   ]
  },
  {
   "cell_type": "code",
   "execution_count": 4,
   "id": "df515a89",
   "metadata": {},
   "outputs": [],
   "source": [
    "def check_plagiarism(text1, text2, threshold=0.5):\n",
    "    similarity = calculate_similarity(text1, text2)\n",
    "\n",
    "    if similarity >= threshold:\n",
    "        return True\n",
    "    else:\n",
    "        return False"
   ]
  },
  {
   "cell_type": "code",
   "execution_count": 5,
   "id": "7e516e8f",
   "metadata": {},
   "outputs": [
    {
     "name": "stdout",
     "output_type": "stream",
     "text": [
      "Plagiarism detected!\n"
     ]
    }
   ],
   "source": [
    "if __name__ == \"__main__\":\n",
    "    # Example usage\n",
    "    text1 = \"This is a sample text for testing plagiarism.\"\n",
    "    text2 = \"A sample text for checking plagiarism.\"\n",
    "\n",
    "    if check_plagiarism(text1, text2):\n",
    "        print(\"Plagiarism detected!\")\n",
    "    else:\n",
    "        print(\"No plagiarism detected.\")"
   ]
  },
  {
   "cell_type": "code",
   "execution_count": null,
   "id": "9cd6d1f8",
   "metadata": {},
   "outputs": [],
   "source": []
  }
 ],
 "metadata": {
  "kernelspec": {
   "display_name": "Python 3 (ipykernel)",
   "language": "python",
   "name": "python3"
  },
  "language_info": {
   "codemirror_mode": {
    "name": "ipython",
    "version": 3
   },
   "file_extension": ".py",
   "mimetype": "text/x-python",
   "name": "python",
   "nbconvert_exporter": "python",
   "pygments_lexer": "ipython3",
   "version": "3.11.5"
  }
 },
 "nbformat": 4,
 "nbformat_minor": 5
}
